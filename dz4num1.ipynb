{
 "cells": [
  {
   "cell_type": "code",
   "execution_count": 5,
   "metadata": {},
   "outputs": [
    {
     "name": "stdout",
     "output_type": "stream",
     "text": [
      "[-28.00788159 -26.57524307 -25.87119807 -24.8551916  -23.09015678\n",
      " -22.61901487 -22.15191998 -21.73056707 -21.04819865 -20.35851978\n",
      " -19.59294755 -18.88839493 -18.30318398 -17.96565144 -17.09883027\n",
      " -16.82540605 -16.1957427  -15.257804   -14.59058223 -13.4797153\n",
      " -13.14294821 -12.79983039 -12.45591667 -11.92011581 -11.13888819\n",
      " -10.67150851 -10.23893168 -10.15333911  -9.32341309  -9.091528\n",
      "  -8.26344087  -7.88557923  -7.78931559  -7.21695241  -6.62815758\n",
      "  -6.10052546  -5.75027434  -5.48295515  -4.85719987  -4.15030933\n",
      "  -3.67385771  -3.33758392  -2.92710003  -2.78553272  -2.34329163\n",
      "  -1.93264399  -1.69036819  -0.81070352  -0.25753023   0.04228338\n",
      "   0.40816421   0.81875633   1.35032869   1.41621565   2.11901315\n",
      "   2.53070298   2.71377457   3.23124461   4.18506567   4.63234435\n",
      "   4.94915148   5.09753478   5.87931428   6.04456661   6.66750635\n",
      "   6.99466895   7.60469952   8.20553876   8.53435436   8.90201384\n",
      "   9.09830452   9.88102716  10.11897667  10.59619806  11.43234857\n",
      "  11.57745241  12.13989843  12.79833278  13.23553161  14.01446962\n",
      "  14.59571474  15.31364323  16.0337022   16.56764573  16.7010253\n",
      "  17.50644813  18.11581451  18.87270849  19.26453833  19.58871724\n",
      "  20.69261859  20.86884779  21.6270227   22.24782707  22.8180845\n",
      "  22.92596536  24.01111144  25.26585007  25.61170597  27.9942426 ]\n"
     ]
    },
    {
     "data": {
      "text/plain": [
       "(array([ 6., 10.,  8., 13., 12., 13., 12., 11.,  9.,  6.]),\n",
       " array([-2.80078816e+01, -2.24076692e+01, -1.68074568e+01, -1.12072443e+01,\n",
       "        -5.60703192e+00, -6.81949531e-03,  5.59339292e+00,  1.11936053e+01,\n",
       "         1.67938178e+01,  2.23940302e+01,  2.79942426e+01]),\n",
       " <BarContainer object of 10 artists>)"
      ]
     },
     "execution_count": 5,
     "metadata": {},
     "output_type": "execute_result"
    },
    {
     "data": {
      "image/png": "[encoded data removed]",
      "text/plain": [
       "<Figure size 432x288 with 1 Axes>"
      ]
     },
     "metadata": {
      "needs_background": "light"
     },
     "output_type": "display_data"
    }
   ],
   "source": [
    "import numpy as np\n",
    "import matplotlib.pyplot as plt\n",
    "\n",
    "n = 100\n",
    "a = np.random.normal(0, 1, [n, n])\n",
    "A = a + a.T\n",
    "\n",
    "v = np.linalg.eigvalsh(A)\n",
    "print(v)\n",
    "plt.hist(v)"
   ]
  }
 ],
 "metadata": {
  "kernelspec": {
   "display_name": "Python 3",
   "language": "python",
   "name": "python3"
  },
  "language_info": {
   "codemirror_mode": {
    "name": "ipython",
    "version": 3
   },
   "file_extension": ".py",
   "mimetype": "text/x-python",
   "name": "python",
   "nbconvert_exporter": "python",
   "pygments_lexer": "ipython3",
   "version": "3.8.6"
  }
 },
 "nbformat": 4,
 "nbformat_minor": 4
}
