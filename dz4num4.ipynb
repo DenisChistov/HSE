{
 "cells": [
  {
   "cell_type": "code",
   "execution_count": 1,
   "metadata": {},
   "outputs": [],
   "source": [
    "import numpy as np\n",
    "import matplotlib.pyplot as plt\n",
    "\n",
    "\n",
    "A = np.matrix([[3,1,0,0], \n",
    "               [1,2,0,1], \n",
    "               [0,0,1,1], \n",
    "               [0,1,1,1]])\n",
    "\n",
    "n = len(A)\n",
    "v = np.random.random(n)\n",
    "\n",
    "v /= np.sqrt(v @ v)"
   ]
  },
  {
   "cell_type": "code",
   "execution_count": 2,
   "metadata": {},
   "outputs": [
    {
     "name": "stdout",
     "output_type": "stream",
     "text": [
      "[[0.77250966 0.58000058 0.08832178 0.2429556 ]]\n"
     ]
    }
   ],
   "source": [
    "for i in range(100):\n",
    "    v = np.array(v @ A)\n",
    "    v /= np.sqrt(v.dot(v.T))\n",
    "print(v)"
   ]
  },
  {
   "cell_type": "code",
   "execution_count": 3,
   "metadata": {},
   "outputs": [
    {
     "name": "stdout",
     "output_type": "stream",
     "text": [
      "[[3.75080042 3.75080042 3.75080042 3.75080042]]\n",
      "3.75\n"
     ]
    }
   ],
   "source": [
    "print((v @ A) / v)\n",
    "print((np.sum((v @ A) / v) / len(v[0])).round(2))"
   ]
  },
  {
   "cell_type": "code",
   "execution_count": 4,
   "metadata": {},
   "outputs": [
    {
     "name": "stdout",
     "output_type": "stream",
     "text": [
      "Start error 1.6726969953861202\n",
      "iteration 1 error = 0.33531763341768467\n",
      "iteration 2 error = 0.2016652202635066\n",
      "iteration 3 error = 0.12446644704276104\n",
      "iteration 4 error = 0.07698162604323916\n",
      "iteration 5 error = 0.04761018952223069\n",
      "iteration 6 error = 0.029437753507415794\n",
      "iteration 7 error = 0.0181986917192437\n",
      "iteration 8 error = 0.011249714130792893\n",
      "iteration 9 error = 0.006953886855639922\n",
      "iteration 10 error = 0.004298405359974311\n",
      "iteration 11 error = 0.002656956956613431\n",
      "iteration 12 error = 0.001642330776551687\n",
      "iteration 13 error = 0.0010151642981371346\n",
      "iteration 14 error = 0.0006274973281461688\n",
      "[[-0.77218753 -0.58021989 -0.08861902 -0.24334744]]\n",
      "[[-0.77250966 -0.58000058 -0.08832178 -0.2429556 ]]\n"
     ]
    }
   ],
   "source": [
    "A = np.matrix([[3,1,0,0], \n",
    "               [1,2,0,1], \n",
    "               [0,0,1,1], \n",
    "               [0,1,1,1]])\n",
    "result_error = 10**-3\n",
    "n = len(A)\n",
    "\n",
    "v = np.random.random(n)\n",
    "v /= np.sqrt(v @ v)\n",
    "\n",
    "sys = np.linalg.eigh(A)\n",
    "real_v = np.array(sys[1][:,3].T)\n",
    "\n",
    "sign = np.sign(v[0]/real_v[0,0])\n",
    "v = np.matrix(sign * v).T\n",
    "\n",
    "error = np.linalg.norm(v - real_v)\n",
    "print('Start error', error)\n",
    "\n",
    "i = 0\n",
    "while error > result_error:\n",
    "    i += 1\n",
    "    v = np.array(A @ v)\n",
    "    v /= np.linalg.norm(v)\n",
    "    error = np.linalg.norm(v.T - real_v)\n",
    "    print('iteration', i, 'error =', error)\n",
    "print(v.T)\n",
    "print(real_v)"
   ]
  },
  {
   "cell_type": "code",
   "execution_count": 5,
   "metadata": {},
   "outputs": [
    {
     "name": "stdout",
     "output_type": "stream",
     "text": [
      "[[3.75139764]\n",
      " [3.75025881]\n",
      " [3.74599549]\n",
      " [3.74849375]]\n",
      "3.75\n"
     ]
    }
   ],
   "source": [
    "Q_max = np.sum((A @ v) / v) / n\n",
    "print((A @ v) / v)\n",
    "print(Q_max.round(2))"
   ]
  },
  {
   "cell_type": "code",
   "execution_count": 6,
   "metadata": {},
   "outputs": [
    {
     "name": "stdout",
     "output_type": "stream",
     "text": [
      "Start error 1.4583524885289072\n",
      "iteration 1 error = 0.31915723498854587\n",
      "iteration 2 error = 0.06746103325826448\n",
      "iteration 3 error = 0.014176162429170927\n",
      "iteration 4 error = 0.0029998183269321333\n",
      "iteration 5 error = 0.0006362200723888927\n",
      "[[-0.77283019 -0.5797882  -0.08801006 -0.2425559 ]]\n",
      "[[-0.77250966 -0.58000058 -0.08832178 -0.2429556 ]]\n"
     ]
    }
   ],
   "source": [
    "A = np.matrix([[3,1,0,0], \n",
    "               [1,2,0,1], \n",
    "               [0,0,1,1], \n",
    "               [0,1,1,1]])\n",
    "result_error = 10**-3\n",
    "m = 3.5\n",
    "n = len(A)\n",
    "\n",
    "v = np.random.random(n)\n",
    "v /= np.sqrt(v @ v)\n",
    "\n",
    "sys = np.linalg.eigh(A)\n",
    "real_v = np.array(sys[1][:,3].T)\n",
    "\n",
    "sign = np.sign(v[0]/real_v[0,0])\n",
    "v = np.matrix(sign * v).T\n",
    "\n",
    "error = np.linalg.norm(v - real_v)\n",
    "print('Start error', error)\n",
    "\n",
    "i = 0\n",
    "while error > result_error:\n",
    "    i += 1\n",
    "    v = np.linalg.inv(A - m * np.eye(n)) @ v\n",
    "    v /= np.linalg.norm(v)\n",
    "    error = np.linalg.norm(v.T - real_v)\n",
    "    print('iteration', i, 'error =', error)\n",
    "print(v.T)\n",
    "print(real_v)"
   ]
  },
  {
   "cell_type": "code",
   "execution_count": 7,
   "metadata": {},
   "outputs": [
    {
     "name": "stdout",
     "output_type": "stream",
     "text": [
      "Start error 1.3350369402356808\n",
      "iteration 1 error = 0.036944167176248\n",
      "iteration 2 error = 0.001287282546899639\n",
      "iteration 3 error = 4.655088852815998e-05\n",
      "[[-0.77253129 -0.57998824 -0.08829657 -0.24292542]]\n",
      "[[-0.77250966 -0.58000058 -0.08832178 -0.2429556 ]]\n"
     ]
    }
   ],
   "source": [
    "A = np.matrix([[3,1,0,0], \n",
    "               [1,2,0,1], \n",
    "               [0,0,1,1], \n",
    "               [0,1,1,1]])\n",
    "result_error = 10**-3\n",
    "m = 3.7\n",
    "n = len(A)\n",
    "\n",
    "v = np.random.random(n)\n",
    "v /= np.sqrt(v @ v)\n",
    "\n",
    "sys = np.linalg.eigh(A)\n",
    "real_v = np.array(sys[1][:,3].T)\n",
    "\n",
    "sign = np.sign(v[0]/real_v[0,0])\n",
    "v = np.matrix(sign * v).T\n",
    "\n",
    "error = np.linalg.norm(v - real_v)\n",
    "print('Start error', error)\n",
    "\n",
    "i = 0\n",
    "while error > result_error:\n",
    "    i += 1\n",
    "    v = np.linalg.solve(A - m * np.eye(n), v)\n",
    "    v /= np.linalg.norm(v)\n",
    "    error = np.linalg.norm(v.T - real_v)\n",
    "    print('iteration', i, 'error =', error)\n",
    "print(v.T)\n",
    "print(real_v)"
   ]
  }
 ],
 "metadata": {
  "kernelspec": {
   "display_name": "Python 3",
   "language": "python",
   "name": "python3"
  },
  "language_info": {
   "codemirror_mode": {
    "name": "ipython",
    "version": 3
   },
   "file_extension": ".py",
   "mimetype": "text/x-python",
   "name": "python",
   "nbconvert_exporter": "python",
   "pygments_lexer": "ipython3",
   "version": "3.8.6"
  }
 },
 "nbformat": 4,
 "nbformat_minor": 4
}
