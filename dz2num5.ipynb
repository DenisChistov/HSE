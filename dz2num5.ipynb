{
 "cells": [
  {
   "cell_type": "code",
   "execution_count": 143,
   "metadata": {},
   "outputs": [],
   "source": [
    "import numpy as np"
   ]
  },
  {
   "cell_type": "code",
   "execution_count": 152,
   "metadata": {},
   "outputs": [
    {
     "data": {
      "text/plain": [
       "6"
      ]
     },
     "execution_count": 152,
     "metadata": {},
     "output_type": "execute_result"
    }
   ],
   "source": [
    "N = 6\n",
    "a = np.zeros((N, N), dtype=float)\n",
    "for i in range(N):\n",
    "    for j in range(N):\n",
    "        a[i, j] = 3. / (0.6*i*j + 1)\n",
    "\n",
    "np.linalg.matrix_rank(a)\n"
   ]
  },
  {
   "cell_type": "code",
   "execution_count": 145,
   "metadata": {},
   "outputs": [],
   "source": [
    "def diy_lu(a):\n",
    "    \"\"\"Создает LU - разложение матрицы `a`.\n",
    "    \n",
    "    Наивное LU - разложение: работает столбец за столбцом, накапливает элементарные треугольные матрицы.\n",
    "    Без выбора главного элемента.\n",
    "    \"\"\"\n",
    "    N = a.shape[0]\n",
    "        \n",
    "    a, finish_replace = test_matrix(a,N)\n",
    "\n",
    "    u = a.copy()\n",
    "    L = np.eye(N)\n",
    "    for j in range(N-1):\n",
    "        lam = np.eye(N)\n",
    "        gamma = u[j+1:, j] / u[j, j]\n",
    "        lam[j+1:, j] = -gamma\n",
    "        u = lam @ u\n",
    "\n",
    "        lam[j+1:, j] = gamma\n",
    "        L = L @ lam\n",
    "    return L, u, finish_replace"
   ]
  },
  {
   "cell_type": "code",
   "execution_count": 157,
   "metadata": {},
   "outputs": [],
   "source": [
    "def test_matrix(matrixA, N, count=0):\n",
    "    #replace - массив всевозможных замен столбцов. replace[0]=[0,0] Для удобтва.\n",
    "    replace = []\n",
    "    replace.append([0,0])\n",
    "    for s1 in range(N-1):\n",
    "        for s2 in range(s1+1,N):\n",
    "            replace.append([s1,s2])\n",
    "            \n",
    "            \n",
    "    # Меняем местами столбец под номером replace[count][0] \n",
    "    # со столбцом под номером replace[count][1]      \n",
    "    matrixA = replace_j(matrixA, N, replace[count][0], replace[count][1])\n",
    "    \n",
    "    for k in range(1,N+1):\n",
    "        \n",
    "        b = np.zeros((k, k), dtype=float)\n",
    "        for i in range(k):\n",
    "            for j in range(k):\n",
    "                b[i,j] = matrixA[i,j]\n",
    "        \n",
    "        if np.sqrt(np.linalg.det(b)**2) < 10**-15:\n",
    "            matrixA_old = replace_j(matrixA, N, replace[count][1], replace[count][0])\n",
    "            return test_matrix(matrixA_old, N, count + 1)\n",
    "        \n",
    "    return matrixA, replace[count]\n",
    "    "
   ]
  },
  {
   "cell_type": "code",
   "execution_count": 147,
   "metadata": {},
   "outputs": [],
   "source": [
    "np.set_printoptions(precision=3)\n"
   ]
  },
  {
   "cell_type": "code",
   "execution_count": 137,
   "metadata": {},
   "outputs": [
    {
     "name": "stdout",
     "output_type": "stream",
     "text": [
      "[[1.    0.    0.    0.    0.    0.   ]\n",
      " [1.    1.    0.    0.    0.    0.   ]\n",
      " [1.    1.455 1.    0.    0.    0.   ]\n",
      " [1.    1.714 1.742 1.    0.    0.   ]\n",
      " [1.    1.882 2.276 2.039 1.    0.   ]\n",
      " [1.    2.    2.671 2.944 2.354 1.   ]] \n",
      "\n",
      "[[ 3.000e+00  3.000e+00  3.000e+00  3.000e+00  3.000e+00  3.000e+00]\n",
      " [ 0.000e+00 -1.125e+00 -1.636e+00 -1.929e+00 -2.118e+00 -2.250e+00]\n",
      " [ 0.000e+00  0.000e+00  2.625e-01  4.574e-01  5.975e-01  7.013e-01]\n",
      " [ 0.000e+00  2.220e-16  0.000e+00 -2.197e-02 -4.480e-02 -6.469e-02]\n",
      " [ 0.000e+00 -4.528e-16  0.000e+00  6.939e-18  8.080e-04  1.902e-03]\n",
      " [ 0.000e+00  4.123e-16  0.000e+00 -1.634e-17  0.000e+00 -1.585e-05]] \n",
      "\n",
      "[[3.    3.    3.    3.    3.    3.   ]\n",
      " [3.    1.875 1.364 1.071 0.882 0.75 ]\n",
      " [3.    1.364 0.882 0.652 0.517 0.429]\n",
      " [3.    1.071 0.652 0.469 0.366 0.3  ]\n",
      " [3.    0.882 0.517 0.366 0.283 0.231]\n",
      " [3.    0.75  0.429 0.3   0.231 0.188]]\n",
      "\n",
      "\n",
      "[[3.    3.    3.    3.    3.    3.   ]\n",
      " [3.    1.875 1.364 1.071 0.882 0.75 ]\n",
      " [3.    1.364 0.882 0.652 0.517 0.429]\n",
      " [3.    1.071 0.652 0.469 0.366 0.3  ]\n",
      " [3.    0.882 0.517 0.366 0.283 0.231]\n",
      " [3.    0.75  0.429 0.3   0.231 0.188]]\n",
      "\n",
      "\n",
      "[[ 0.000e+00  0.000e+00  0.000e+00  0.000e+00  0.000e+00  0.000e+00]\n",
      " [ 0.000e+00  0.000e+00  0.000e+00  0.000e+00  0.000e+00  0.000e+00]\n",
      " [ 0.000e+00  0.000e+00  0.000e+00  2.220e-16 -1.110e-16 -1.665e-16]\n",
      " [ 0.000e+00  0.000e+00  2.220e-16 -5.551e-17 -1.665e-16 -1.665e-16]\n",
      " [ 0.000e+00  0.000e+00 -1.110e-16 -1.665e-16  1.665e-16  5.551e-17]\n",
      " [ 0.000e+00  0.000e+00 -1.665e-16 -1.665e-16  5.551e-17  0.000e+00]]\n"
     ]
    }
   ],
   "source": [
    "L, u, fin_rep = diy_lu(a)\n",
    "\n",
    "print(L, \"\\n\")\n",
    "print(u, \"\\n\")\n",
    "\n",
    "LU = replace_j(L@u, a.shape[0], fin_rep[1], fin_rep[0])\n",
    "\n",
    "print(LU, end='\\n\\n\\n')\n",
    "\n",
    "print(L@u, end='\\n\\n\\n')\n",
    "\n",
    "# Быстрый тест на адекватность: L @ U должна быть равна изначальной матрице с точностью до ошибок округления.\n",
    "print(L@u - a)"
   ]
  },
  {
   "cell_type": "code",
   "execution_count": 172,
   "metadata": {},
   "outputs": [],
   "source": [
    "a1 = a.copy()\n",
    "a1[1, 1] = 3"
   ]
  },
  {
   "cell_type": "code",
   "execution_count": 173,
   "metadata": {},
   "outputs": [
    {
     "name": "stdout",
     "output_type": "stream",
     "text": [
      "[[3.    3.    3.    3.    3.    3.   ]\n",
      " [3.    3.    1.364 1.071 0.882 0.75 ]\n",
      " [3.    1.364 0.882 0.652 0.517 0.429]\n",
      " [3.    1.071 0.652 0.469 0.366 0.3  ]\n",
      " [3.    0.882 0.517 0.366 0.283 0.231]\n",
      " [3.    0.75  0.429 0.3   0.231 0.188]] \n",
      "\n",
      "\n",
      "\n",
      "[[1.    0.    0.    0.    0.    0.   ]\n",
      " [0.455 1.    0.    0.    0.    0.   ]\n",
      " [0.294 0.294 1.    0.    0.    0.   ]\n",
      " [0.217 0.256 1.179 1.    0.    0.   ]\n",
      " [0.172 0.223 1.294 1.635 1.    0.   ]\n",
      " [0.143 0.196 1.375 2.07  2.082 1.   ]] \n",
      "\n",
      "[[ 3.000e+00  3.000e+00  3.000e+00  3.000e+00  3.000e+00  3.000e+00]\n",
      " [ 0.000e+00  1.636e+00  1.636e+00 -2.922e-01 -4.813e-01 -6.136e-01]\n",
      " [ 0.000e+00 -5.551e-17  1.636e+00 -1.442e-01 -2.236e-01 -2.733e-01]\n",
      " [ 0.000e+00  6.542e-17  0.000e+00  6.143e-02  1.005e-01  1.272e-01]\n",
      " [ 0.000e+00 -3.515e-17  0.000e+00  0.000e+00 -1.830e-03 -3.810e-03]\n",
      " [ 0.000e+00  1.412e-17  0.000e+00  0.000e+00  0.000e+00  2.567e-05]] \n",
      "\n",
      "[[3.    3.    3.    3.    3.    3.   ]\n",
      " [1.364 3.    3.    1.071 0.882 0.75 ]\n",
      " [0.882 1.364 3.    0.652 0.517 0.429]\n",
      " [0.652 1.071 3.    0.469 0.366 0.3  ]\n",
      " [0.517 0.882 3.    0.366 0.283 0.231]\n",
      " [0.429 0.75  3.    0.3   0.231 0.188]]\n",
      "\n",
      "\n",
      "[0, 2]\n",
      "[[3.    3.    3.    3.    3.    3.   ]\n",
      " [3.    3.    1.364 1.071 0.882 0.75 ]\n",
      " [3.    1.364 0.882 0.652 0.517 0.429]\n",
      " [3.    1.071 0.652 0.469 0.366 0.3  ]\n",
      " [3.    0.882 0.517 0.366 0.283 0.231]\n",
      " [3.    0.75  0.429 0.3   0.231 0.188]]\n",
      "\n",
      "\n",
      "[[ 0.000e+00  0.000e+00  0.000e+00  0.000e+00  0.000e+00  0.000e+00]\n",
      " [ 0.000e+00  0.000e+00  0.000e+00  0.000e+00  0.000e+00  0.000e+00]\n",
      " [ 0.000e+00  0.000e+00  0.000e+00  0.000e+00  0.000e+00  0.000e+00]\n",
      " [ 0.000e+00  0.000e+00  0.000e+00  0.000e+00  5.551e-17  5.551e-17]\n",
      " [ 0.000e+00  0.000e+00  0.000e+00  0.000e+00  5.551e-17  2.776e-17]\n",
      " [ 0.000e+00 -1.110e-16  0.000e+00  0.000e+00  0.000e+00  0.000e+00]]\n",
      "\n",
      "\n"
     ]
    }
   ],
   "source": [
    "print(a1, \"\\n\\n\\n\")\n",
    "\n",
    "L, u, fin_rep = diy_lu(a1)\n",
    "\n",
    "print(L, \"\\n\")\n",
    "print(u, \"\\n\")\n",
    "\n",
    "\n",
    "print(L@u, end='\\n\\n\\n')\n",
    "LU = replace_j(L@u, a.shape[0], fin_rep[1], fin_rep[0])\n",
    "print(fin_rep)\n",
    "print(LU, end='\\n\\n\\n')\n",
    "\n",
    "# Быстрый тест на адекватность: L @ U должна быть равна изначальной матрице с точностью до ошибок округления.\n",
    "print(L@u - a1, end='\\n\\n\\n')\n"
   ]
  },
  {
   "cell_type": "code",
   "execution_count": 108,
   "metadata": {},
   "outputs": [],
   "source": [
    "def replace_j(a,N,j1,j2):\n",
    "    for i in range(N):\n",
    "        a[i,j1], a[i,j2] = a[i,j2], a[i,j1]\n",
    "    return a"
   ]
  },
  {
   "cell_type": "code",
   "execution_count": null,
   "metadata": {},
   "outputs": [],
   "source": []
  }
 ],
 "metadata": {
  "kernelspec": {
   "display_name": "Python 3",
   "language": "python",
   "name": "python3"
  },
  "language_info": {
   "codemirror_mode": {
    "name": "ipython",
    "version": 3
   },
   "file_extension": ".py",
   "mimetype": "text/x-python",
   "name": "python",
   "nbconvert_exporter": "python",
   "pygments_lexer": "ipython3",
   "version": "3.8.1"
  }
 },
 "nbformat": 4,
 "nbformat_minor": 4
}
