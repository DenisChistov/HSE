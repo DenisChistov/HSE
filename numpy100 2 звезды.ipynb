{
 "cells": [
  {
   "cell_type": "markdown",
   "metadata": {},
   "source": [
    "Задачи с двумя звёздами. Задачи под номерами 46 51 53 55 62 63 отсутствуют.\n",
    "\n",
    "Всего задач 63 - 33 - 6(нерешённые) = 24"
   ]
  },
  {
   "cell_type": "code",
   "execution_count": 6,
   "metadata": {},
   "outputs": [],
   "source": [
    "import numpy as np"
   ]
  },
  {
   "cell_type": "markdown",
   "metadata": {},
   "source": [
    "34. How to get all the dates corresponding to the month of July 2016?"
   ]
  },
  {
   "cell_type": "code",
   "execution_count": 8,
   "metadata": {},
   "outputs": [
    {
     "name": "stdout",
     "output_type": "stream",
     "text": [
      "['2016-07-01' '2016-07-02' '2016-07-03' '2016-07-04' '2016-07-05'\n",
      " '2016-07-06' '2016-07-07' '2016-07-08' '2016-07-09' '2016-07-10'\n",
      " '2016-07-11' '2016-07-12' '2016-07-13' '2016-07-14' '2016-07-15'\n",
      " '2016-07-16' '2016-07-17' '2016-07-18' '2016-07-19' '2016-07-20'\n",
      " '2016-07-21' '2016-07-22' '2016-07-23' '2016-07-24' '2016-07-25'\n",
      " '2016-07-26' '2016-07-27' '2016-07-28' '2016-07-29' '2016-07-30'\n",
      " '2016-07-31']\n"
     ]
    }
   ],
   "source": [
    "D = np.arange('2016-07', '2016-08', dtype='datetime64[D]')\n",
    "print(D)"
   ]
  },
  {
   "cell_type": "markdown",
   "metadata": {},
   "source": [
    "35. How to compute ((A+B)*(-A/2)) in place (without copy)?"
   ]
  },
  {
   "cell_type": "code",
   "execution_count": 13,
   "metadata": {},
   "outputs": [
    {
     "name": "stdout",
     "output_type": "stream",
     "text": [
      "[1. 1. 1.] [2. 2. 2.]\n",
      "[-0.5 -0.5 -0.5] [3. 3. 3.]\n"
     ]
    },
    {
     "data": {
      "text/plain": [
       "array([-1.5, -1.5, -1.5])"
      ]
     },
     "execution_count": 13,
     "metadata": {},
     "output_type": "execute_result"
    }
   ],
   "source": [
    "A = np.ones(3)*1\n",
    "B = np.ones(3)*2\n",
    "\n",
    "\n",
    "print(A, B)\n",
    "np.add(A,B,out=B)\n",
    "np.divide(A,2,out=A)\n",
    "np.negative(A,out=A)\n",
    "print(A, B)\n",
    "\n",
    "np.multiply(A,B,out=A)"
   ]
  },
  {
   "cell_type": "markdown",
   "metadata": {},
   "source": [
    "36. Extract the integer part of a random array using 5 different methods"
   ]
  },
  {
   "cell_type": "code",
   "execution_count": 18,
   "metadata": {},
   "outputs": [
    {
     "name": "stdout",
     "output_type": "stream",
     "text": [
      "[1. 1. 0. 1. 2.]\n",
      "[1. 1. 0. 1. 2.]\n",
      "[1 1 0 1 2]\n",
      "[1. 1. 0. 1. 2.]\n",
      "[1. 1. 0. 1. 2.]\n"
     ]
    }
   ],
   "source": [
    "M = np.random.uniform(0,10,5)\n",
    "print (np.ceil(M)-1)\n",
    "print (np.floor(M))\n",
    "print (M.astype(int))\n",
    "print (np.trunc(M))\n",
    "print (M - M%1)"
   ]
  },
  {
   "cell_type": "markdown",
   "metadata": {},
   "source": [
    "37. Create a 5x5 matrix with row values ranging from 0 to 4"
   ]
  },
  {
   "cell_type": "code",
   "execution_count": 20,
   "metadata": {},
   "outputs": [
    {
     "name": "stdout",
     "output_type": "stream",
     "text": [
      "[[0. 1. 2. 3. 4.]\n",
      " [0. 1. 2. 3. 4.]\n",
      " [0. 1. 2. 3. 4.]\n",
      " [0. 1. 2. 3. 4.]\n",
      " [0. 1. 2. 3. 4.]]\n"
     ]
    }
   ],
   "source": [
    "m = np.zeros((5,5))\n",
    "m += np.arange(5)\n",
    "print(m)"
   ]
  },
  {
   "cell_type": "markdown",
   "metadata": {},
   "source": [
    "38. Consider a generator function that generates 10 integers and use it to build an array "
   ]
  },
  {
   "cell_type": "code",
   "execution_count": 25,
   "metadata": {},
   "outputs": [
    {
     "name": "stdout",
     "output_type": "stream",
     "text": [
      "[1 2 3 4 5 6 7 8 9]\n"
     ]
    }
   ],
   "source": [
    "def generate():\n",
    "    for x in range(1,10):\n",
    "        yield x\n",
    "M = np.fromiter(generate(), dtype=int)\n",
    "print(M)"
   ]
  },
  {
   "cell_type": "markdown",
   "metadata": {},
   "source": [
    "39. Create a vector of size 10 with values ranging from 0 to 1, both excluded"
   ]
  },
  {
   "cell_type": "code",
   "execution_count": 30,
   "metadata": {},
   "outputs": [
    {
     "name": "stdout",
     "output_type": "stream",
     "text": [
      "[0.09090909 0.18181818 0.27272727 0.36363636 0.45454545 0.54545455\n",
      " 0.63636364 0.72727273 0.81818182 0.90909091]\n"
     ]
    }
   ],
   "source": [
    "M = np.linspace(0,1,12)[1:-1]\n",
    "print(M)"
   ]
  },
  {
   "cell_type": "markdown",
   "metadata": {},
   "source": [
    "40. Create a random vector of size 10 and sort it"
   ]
  },
  {
   "cell_type": "code",
   "execution_count": 31,
   "metadata": {},
   "outputs": [
    {
     "name": "stdout",
     "output_type": "stream",
     "text": [
      "[0.1460633  0.15762587 0.36989844 0.43765784 0.43997344 0.59403577\n",
      " 0.707376   0.71394517 0.89299116 0.90200156]\n"
     ]
    }
   ],
   "source": [
    "m = np.random.random(10)\n",
    "m.sort()\n",
    "print(m)"
   ]
  },
  {
   "cell_type": "markdown",
   "metadata": {},
   "source": [
    "41. How to sum a small array faster than np.sum?"
   ]
  },
  {
   "cell_type": "code",
   "execution_count": 33,
   "metadata": {},
   "outputs": [
    {
     "data": {
      "text/plain": [
       "3"
      ]
     },
     "execution_count": 33,
     "metadata": {},
     "output_type": "execute_result"
    }
   ],
   "source": [
    "M = np.arange(3)\n",
    "np.add.reduce(M)"
   ]
  },
  {
   "cell_type": "markdown",
   "metadata": {},
   "source": [
    "42. Consider two random array A and B, check if they are equal"
   ]
  },
  {
   "cell_type": "code",
   "execution_count": 36,
   "metadata": {},
   "outputs": [
    {
     "name": "stdout",
     "output_type": "stream",
     "text": [
      "False\n"
     ]
    }
   ],
   "source": [
    "A = np.random.randint(0,2,5)\n",
    "B = np.random.randint(0,2,5)\n",
    "\n",
    "np.array_equal(A,B)\n",
    "print(np.array_equal(A,B))"
   ]
  },
  {
   "cell_type": "markdown",
   "metadata": {},
   "source": [
    "43. Make an array immutable (read-only)"
   ]
  },
  {
   "cell_type": "code",
   "execution_count": 40,
   "metadata": {},
   "outputs": [
    {
     "name": "stdout",
     "output_type": "stream",
     "text": [
      "[0.55563152 0.16382155 0.86010053 0.13398675]\n"
     ]
    },
    {
     "ename": "ValueError",
     "evalue": "assignment destination is read-only",
     "output_type": "error",
     "traceback": [
      "\u001b[1;31m---------------------------------------------------------------------------\u001b[0m",
      "\u001b[1;31mValueError\u001b[0m                                Traceback (most recent call last)",
      "\u001b[1;32m<ipython-input-40-e736d5c5362b>\u001b[0m in \u001b[0;36m<module>\u001b[1;34m\u001b[0m\n\u001b[0;32m      2\u001b[0m \u001b[0mM\u001b[0m\u001b[1;33m.\u001b[0m\u001b[0mflags\u001b[0m\u001b[1;33m.\u001b[0m\u001b[0mwriteable\u001b[0m \u001b[1;33m=\u001b[0m \u001b[1;32mFalse\u001b[0m\u001b[1;33m\u001b[0m\u001b[1;33m\u001b[0m\u001b[0m\n\u001b[0;32m      3\u001b[0m \u001b[0mprint\u001b[0m\u001b[1;33m(\u001b[0m\u001b[0mM\u001b[0m\u001b[1;33m)\u001b[0m\u001b[1;33m\u001b[0m\u001b[1;33m\u001b[0m\u001b[0m\n\u001b[1;32m----> 4\u001b[1;33m \u001b[0mZ\u001b[0m\u001b[1;33m[\u001b[0m\u001b[1;36m0\u001b[0m\u001b[1;33m]\u001b[0m \u001b[1;33m=\u001b[0m \u001b[1;36m1\u001b[0m\u001b[1;33m\u001b[0m\u001b[1;33m\u001b[0m\u001b[0m\n\u001b[0m",
      "\u001b[1;31mValueError\u001b[0m: assignment destination is read-only"
     ]
    }
   ],
   "source": [
    "M = np.random.random(4)\n",
    "M.flags.writeable = False\n",
    "print(M)\n",
    "Z[0] = 1"
   ]
  },
  {
   "cell_type": "markdown",
   "metadata": {},
   "source": [
    "44. Consider a random 10x2 matrix representing cartesian coordinates, convert them to polar coordinates"
   ]
  },
  {
   "cell_type": "code",
   "execution_count": 50,
   "metadata": {},
   "outputs": [
    {
     "name": "stdout",
     "output_type": "stream",
     "text": [
      "[0.61659674 0.83263752 0.84953061 0.58180895 0.80893817 0.60506087\n",
      " 0.15363999 0.75182429 0.32692706 0.1254824 ] [0.21975199 0.24836793 0.81304161 0.76481997 0.39269292 0.43607851\n",
      " 0.11861231 0.41882362 0.43618436 0.12425   ]\n",
      "\n",
      "[0.65458573 0.86889117 1.17589919 0.96096371 0.8992156  0.74583049\n",
      " 0.19409824 0.86061198 0.54510375 0.17658963]\n",
      "[0.34236051 0.28988779 0.76345437 0.9204737  0.45193389 0.62449604\n",
      " 0.65744222 0.50825996 0.9276052  0.78046333]\n"
     ]
    }
   ],
   "source": [
    "Z = np.random.random((10,2))\n",
    "X,Y = Z[:,0], Z[:,1]\n",
    "R = (X**2+Y**2)**0.5\n",
    "Q = np.arctan2(Y,X)\n",
    "print(X, Y, end='\\n\\n')\n",
    "print(R)\n",
    "print(Q)"
   ]
  },
  {
   "cell_type": "markdown",
   "metadata": {},
   "source": [
    "45. Create random vector of size 10 and replace the maximum value by 0"
   ]
  },
  {
   "cell_type": "code",
   "execution_count": 53,
   "metadata": {},
   "outputs": [
    {
     "name": "stdout",
     "output_type": "stream",
     "text": [
      "[0.86638502 0.95745572 0.76550994 0.15814998 0.91215577 0.37483236\n",
      " 0.68671261 0.73065227 0.62817819 0.71576539]\n",
      "\n",
      "[0.86638502 0.         0.76550994 0.15814998 0.91215577 0.37483236\n",
      " 0.68671261 0.73065227 0.62817819 0.71576539]\n"
     ]
    }
   ],
   "source": [
    "M = np.random.random(10)\n",
    "print(M)\n",
    "print()\n",
    "M[M.argmax()] = 0\n",
    "print(M)"
   ]
  },
  {
   "cell_type": "markdown",
   "metadata": {},
   "source": [
    "47. Given two arrays, X and Y, construct the Cauchy matrix C (Cij =1/(xi — yj))"
   ]
  },
  {
   "cell_type": "code",
   "execution_count": null,
   "metadata": {},
   "outputs": [],
   "source": [
    "X = np.arange(8)\n",
    "Y = X + 0.5\n",
    "C = 1.0 / np.subtract.outer(X, Y)\n",
    "print(np.linalg.det(C))"
   ]
  },
  {
   "cell_type": "markdown",
   "metadata": {},
   "source": [
    "48. Print the minimum and maximum representable value for each numpy scalar type"
   ]
  },
  {
   "cell_type": "code",
   "execution_count": 57,
   "metadata": {},
   "outputs": [
    {
     "name": "stdout",
     "output_type": "stream",
     "text": [
      "-128\n",
      "127\n",
      "-2147483648\n",
      "2147483647\n",
      "-9223372036854775808\n",
      "9223372036854775807\n",
      "-3.4028235e+38\n",
      "3.4028235e+38\n",
      "1.1920929e-07\n",
      "-1.7976931348623157e+308\n",
      "1.7976931348623157e+308\n",
      "2.220446049250313e-16\n"
     ]
    }
   ],
   "source": [
    "for type in [np.int8, np.int32, np.int64]:\n",
    "   print(np.iinfo(type).min)\n",
    "   print(np.iinfo(type).max)\n",
    "    \n",
    "    \n",
    "for type in [np.float32, np.float64]:\n",
    "   print(np.finfo(type).min)\n",
    "   print(np.finfo(type).max)\n",
    "   print(np.finfo(type).eps)"
   ]
  },
  {
   "cell_type": "markdown",
   "metadata": {},
   "source": [
    "49. How to print all the values of an array?"
   ]
  },
  {
   "cell_type": "code",
   "execution_count": 61,
   "metadata": {},
   "outputs": [
    {
     "name": "stdout",
     "output_type": "stream",
     "text": [
      "[[0.09656515 0.57202958 0.68628303]\n",
      " [0.02840097 0.07637218 0.13403756]\n",
      " [0.22303185 0.70523471 0.99590176]]\n"
     ]
    }
   ],
   "source": [
    "m = np.random.random((3,3))\n",
    "print(m)"
   ]
  },
  {
   "cell_type": "markdown",
   "metadata": {},
   "source": [
    "50. How to find the closest value (to a given scalar) in a vector?"
   ]
  },
  {
   "cell_type": "code",
   "execution_count": 92,
   "metadata": {},
   "outputs": [
    {
     "name": "stdout",
     "output_type": "stream",
     "text": [
      "[0 1 2 3 4 5 6 7 8 9]\n",
      "4.87425518045467\n",
      "5\n"
     ]
    }
   ],
   "source": [
    "m = np.arange(10)\n",
    "print(m)\n",
    "s = np.random.uniform(0,9)\n",
    "print(s)\n",
    "index = (np.abs(m-s)).argmin()\n",
    "print(index)"
   ]
  },
  {
   "cell_type": "markdown",
   "metadata": {},
   "source": [
    "52. Consider a random vector with shape (100,2) representing coordinates, find point by point distances"
   ]
  },
  {
   "cell_type": "code",
   "execution_count": 113,
   "metadata": {},
   "outputs": [
    {
     "name": "stdout",
     "output_type": "stream",
     "text": [
      "[[0.34130981 0.86278263]\n",
      " [0.11260356 0.77970339]\n",
      " [0.87381606 0.94200183]]\n",
      "[[0.         0.2433284  0.5383666 ]\n",
      " [0.2433284  0.         0.77832208]\n",
      " [0.5383666  0.77832208 0.        ]]\n",
      "\n",
      "0.7563385577341816\n",
      "[[0.         1.04445598 0.13819305 ... 0.83004354 0.38524316 0.51507868]\n",
      " [1.04445598 0.         1.0430947  ... 0.6557302  0.65933787 0.60887059]\n",
      " [0.13819305 1.0430947  0.         ... 0.91545682 0.39657295 0.57573576]\n",
      " ...\n",
      " [0.83004354 0.6557302  0.91545682 ... 0.         0.58967305 0.35937443]\n",
      " [0.38524316 0.65933787 0.39657295 ... 0.58967305 0.         0.23136665]\n",
      " [0.51507868 0.60887059 0.57573576 ... 0.35937443 0.23136665 0.        ]]\n"
     ]
    }
   ],
   "source": [
    "import scipy.spatial\n",
    "Z = np.random.random((3,2))\n",
    "D = scipy.spatial.distance.cdist(Z,Z)\n",
    "print(Z)\n",
    "print(D, end='\\n\\n')\n",
    "\n",
    "Z = np.random.random((100,2))\n",
    "D = scipy.spatial.distance.cdist(Z,Z)\n",
    "print(D[0,9]) # расстояние от 1 точки до 10 точки\n",
    "print(D)"
   ]
  },
  {
   "cell_type": "markdown",
   "metadata": {},
   "source": [
    "54. How to read the following file? "
   ]
  },
  {
   "cell_type": "code",
   "execution_count": 118,
   "metadata": {},
   "outputs": [
    {
     "name": "stdout",
     "output_type": "stream",
     "text": [
      "[[ 1  2  3  4  5]\n",
      " [ 6 -1 -1  7  8]\n",
      " [-1 -1  9 10 11]]\n"
     ]
    }
   ],
   "source": [
    "#1, 2, 3, 4, 5\n",
    "#6,  ,  , 7, 8\n",
    "# ,  , 9,10,11\n",
    "from io import StringIO\n",
    "# Fake file\n",
    "file = StringIO('''1, 2, 3, 4, 5\n",
    "                6,  ,  , 7, 8\n",
    "                 ,  , 9,10,11\n",
    "''')\n",
    "Rez = np.genfromtxt(file, delimiter=\",\", dtype=np.int)\n",
    "print(Rez)"
   ]
  },
  {
   "cell_type": "markdown",
   "metadata": {},
   "source": [
    "56. Generate a generic 2D Gaussian-like array"
   ]
  },
  {
   "cell_type": "code",
   "execution_count": 133,
   "metadata": {},
   "outputs": [
    {
     "data": {
      "text/plain": [
       "<matplotlib.image.AxesImage at 0x1a701ec8>"
      ]
     },
     "execution_count": 133,
     "metadata": {},
     "output_type": "execute_result"
    },
    {
     "data": {
      "image/png": "[encoded data removed]",
      "text/plain": [
       "<Figure size 432x288 with 1 Axes>"
      ]
     },
     "metadata": {
      "needs_background": "light"
     },
     "output_type": "display_data"
    }
   ],
   "source": [
    "import matplotlib.pyplot as plt\n",
    "X, Y = np.meshgrid(np.linspace(-1,1,10), np.linspace(-1,1,10))\n",
    "\n",
    "D = (X**2+Y**2)**0.5\n",
    "sigma, mu = 1.0, 0.0\n",
    "\n",
    "G = np.exp(-((D - mu)**2 / (2.0 * sigma**2)))\n",
    "\n",
    "plt.imshow(G)\n"
   ]
  },
  {
   "cell_type": "markdown",
   "metadata": {},
   "source": [
    "57. How to randomly place p elements in a 2D array?"
   ]
  },
  {
   "cell_type": "code",
   "execution_count": 151,
   "metadata": {},
   "outputs": [
    {
     "name": "stdout",
     "output_type": "stream",
     "text": [
      "[[0. 0. 0. 0. 0.]\n",
      " [0. 0. 0. 0. 0.]\n",
      " [0. 0. 0. 0. 0.]\n",
      " [0. 0. 0. 0. 0.]\n",
      " [1. 0. 0. 1. 0.]]\n"
     ]
    }
   ],
   "source": [
    "n = 5\n",
    "p = 3\n",
    "M = np.zeros((n,n))\n",
    "np.put(M, np.random.choice(range(n*n), p), 1)\n",
    "print(M)"
   ]
  },
  {
   "cell_type": "markdown",
   "metadata": {},
   "source": [
    "58. Subtract the mean of each row of a matrix"
   ]
  },
  {
   "cell_type": "code",
   "execution_count": 160,
   "metadata": {},
   "outputs": [
    {
     "name": "stdout",
     "output_type": "stream",
     "text": [
      "[0.80081413 0.26767093 0.10310349 0.63547508 0.34398863 0.35726736\n",
      " 0.88564873 0.12937878 0.17953355 0.04995853] 0.37528392207047134\n",
      "[[ 4.25530204e-01 -1.07612988e-01 -2.72180437e-01  2.60191162e-01\n",
      "  -3.12952889e-02 -1.80165611e-02  5.10364807e-01 -2.45905138e-01\n",
      "  -1.95750372e-01 -3.25325388e-01]\n",
      " [-2.16192081e-01 -7.68785916e-02  4.06660914e-01  6.67184694e-02\n",
      "  -1.92730258e-01  1.61152377e-01  2.37273181e-01 -4.18302425e-01\n",
      "   4.04475698e-01 -3.72177284e-01]\n",
      " [ 1.66839854e-01 -4.11075196e-04 -3.98198416e-01 -4.65939853e-03\n",
      "  -3.82523541e-01 -2.23599699e-02 -1.01342961e-01  2.85533724e-01\n",
      "   3.42373340e-01  1.14748443e-01]\n",
      " [-1.75404712e-01 -1.02257697e-01  9.34643570e-02 -4.01751719e-02\n",
      "   1.20547905e-01  3.43485855e-01 -3.86216757e-01  1.24703449e-01\n",
      "   4.04308862e-01 -3.82456090e-01]\n",
      " [-1.52016619e-01 -2.19444194e-01 -1.10637864e-01 -1.54807924e-01\n",
      "   4.07519527e-01  3.51922692e-01 -1.33783915e-01  2.27450237e-01\n",
      "  -2.31332421e-01  1.51304809e-02]]\n"
     ]
    }
   ],
   "source": [
    "X = np.random.rand(5, 10)\n",
    "Y = X - X.mean(axis=1).reshape(-1, 1)\n",
    "print(X[0], X[0].mean(), end='\\n')\n",
    "print(Y)"
   ]
  },
  {
   "cell_type": "markdown",
   "metadata": {},
   "source": [
    "59. How to sort an array by the nth column? "
   ]
  },
  {
   "cell_type": "code",
   "execution_count": 164,
   "metadata": {},
   "outputs": [
    {
     "name": "stdout",
     "output_type": "stream",
     "text": [
      "[[4 6 4]\n",
      " [8 9 8]\n",
      " [5 7 6]]\n",
      "\n",
      "[[4 6 4]\n",
      " [5 7 6]\n",
      " [8 9 8]]\n"
     ]
    }
   ],
   "source": [
    "m = np.random.randint(0, 10, (3,3))\n",
    "print(m, end='\\n\\n')\n",
    "print(m[m[:,1].argsort()]) #сортировка по первому столбцу по увеличению"
   ]
  },
  {
   "cell_type": "markdown",
   "metadata": {},
   "source": [
    "60. How to tell if a given 2D array has null columns?"
   ]
  },
  {
   "cell_type": "code",
   "execution_count": 351,
   "metadata": {},
   "outputs": [
    {
     "name": "stdout",
     "output_type": "stream",
     "text": [
      "[[1 0 1 0]\n",
      " [1 0 0 1]\n",
      " [1 1 1 1]\n",
      " [1 1 0 0]]\n",
      "True\n"
     ]
    }
   ],
   "source": [
    "Z = np.random.randint(0, 2, (4,4))\n",
    "print(Z)\n",
    "\n",
    "print((~Z.any(axis=0)).any())"
   ]
  },
  {
   "cell_type": "markdown",
   "metadata": {},
   "source": [
    "61. Find the nearest value from a given value in an array"
   ]
  },
  {
   "cell_type": "code",
   "execution_count": 368,
   "metadata": {},
   "outputs": [
    {
     "name": "stdout",
     "output_type": "stream",
     "text": [
      "[0.04653648 0.31208912 0.83828958 0.96611727 0.38397522]\n",
      "0.3839752216548118 ближайшее к 0.5\n"
     ]
    }
   ],
   "source": [
    "M = np.random.uniform(0,1,5)\n",
    "num = 0.5\n",
    "\n",
    "rez = M.flat[np.abs(M - num).argmin()]\n",
    "print(M)\n",
    "print(rez, 'ближайшее к', num)"
   ]
  }
 ],
 "metadata": {
  "kernelspec": {
   "display_name": "Python 3",
   "language": "python",
   "name": "python3"
  },
  "language_info": {
   "codemirror_mode": {
    "name": "ipython",
    "version": 3
   },
   "file_extension": ".py",
   "mimetype": "text/x-python",
   "name": "python",
   "nbconvert_exporter": "python",
   "pygments_lexer": "ipython3",
   "version": "3.8.1"
  }
 },
 "nbformat": 4,
 "nbformat_minor": 4
}
