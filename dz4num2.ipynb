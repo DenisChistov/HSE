{
 "cells": [
  {
   "cell_type": "code",
   "execution_count": 124,
   "metadata": {},
   "outputs": [
    {
     "name": "stdout",
     "output_type": "stream",
     "text": [
      "[1.000e-02 3.700e-01 1.180e+00 1.270e+00 2.590e+00 1.037e+01 1.349e+01\n",
      " 2.164e+01 2.646e+01 3.407e+01]\n",
      "[1.000e-02 3.700e-01 1.190e+00 1.260e+00 2.590e+00 1.038e+01 1.349e+01\n",
      " 2.165e+01 3.024e+01 3.028e+01]\n"
     ]
    }
   ],
   "source": [
    "import numpy as np\n",
    "import matplotlib.pyplot as plt\n",
    "\n",
    "\n",
    "n = 10\n",
    "r = 2\n",
    "error = 1e-2\n",
    "a = np.random.normal(0, 1, (n, n))\n",
    "A = a @ a.T\n",
    "\n",
    "real_sz = np.sort(np.linalg.eigvalsh(A))\n",
    "print(real_sz.round(r))\n",
    "\n",
    "for i in range(10):\n",
    "    Q, R = np.linalg.qr(A)\n",
    "    A = R @ Q\n",
    "print(np.sort(np.diagonal(A).round(r)))"
   ]
  },
  {
   "cell_type": "code",
   "execution_count": 126,
   "metadata": {},
   "outputs": [
    {
     "name": "stdout",
     "output_type": "stream",
     "text": [
      "Кол-во итераций 1 и ошибка 33.312 %\n",
      "Кол-во итераций 2 и ошибка 0.829 %\n",
      "0.04514486551210154\n",
      "0.045518939124390624\n"
     ]
    },
    {
     "data": {
      "text/plain": [
       "<matplotlib.image.AxesImage at 0x2a3cc65d370>"
      ]
     },
     "execution_count": 126,
     "metadata": {},
     "output_type": "execute_result"
    },
    {
     "data": {
      "image/png": "[encoded data removed]",
      "text/plain": [
       "<Figure size 432x288 with 1 Axes>"
      ]
     },
     "metadata": {
      "needs_background": "light"
     },
     "output_type": "display_data"
    }
   ],
   "source": [
    "n = 10\n",
    "error = 1e-2\n",
    "a = np.random.normal(0, 1, (n, n))\n",
    "A = a @ a.T\n",
    "\n",
    "real_min = np.linalg.eigvalsh(A)[0]\n",
    "\n",
    "now_min = -1\n",
    "iteration = 0\n",
    "while abs((real_min - now_min) / real_min) > error:\n",
    "    iteration += 1\n",
    "    Q, R = np.linalg.qr(A)\n",
    "    A = R @ Q\n",
    "    now_min = np.diagonal(A)[-1]\n",
    "    print('Кол-во итераций', iteration, 'и ошибка', abs(100* (real_min - now_min) / real_min).round(3), '%' )\n",
    "    \n",
    "print(real_min)\n",
    "print(now_min)\n",
    "\n",
    "\n",
    "plt.imshow(A)"
   ]
  }
 ],
 "metadata": {
  "kernelspec": {
   "display_name": "Python 3",
   "language": "python",
   "name": "python3"
  },
  "language_info": {
   "codemirror_mode": {
    "name": "ipython",
    "version": 3
   },
   "file_extension": ".py",
   "mimetype": "text/x-python",
   "name": "python",
   "nbconvert_exporter": "python",
   "pygments_lexer": "ipython3",
   "version": "3.8.6"
  }
 },
 "nbformat": 4,
 "nbformat_minor": 4
}
