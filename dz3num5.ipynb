{
 "cells": [
  {
   "cell_type": "code",
   "execution_count": null,
   "metadata": {},
   "outputs": [],
   "source": [
    "  | f1         f2         f3         f4         f5         f6         f7         f8      \n",
    "_____________________________________________________________________________________\n",
    "x | 0.0        0.0        0.0        0.0        0.0        0.0        0.0        0.0\n",
    "v | 1          1          1          1          1          1          1          1"
   ]
  },
  {
   "cell_type": "code",
   "execution_count": 22,
   "metadata": {},
   "outputs": [
    {
     "name": "stdout",
     "output_type": "stream",
     "text": [
      "[[9.5 8.5 7.5 6.5 5.5 4.5 3.5 2.5 1.5 0.5]\n",
      " [1.  1.  1.  1.  1.  1.  1.  1.  1.  1. ]]\n"
     ]
    }
   ],
   "source": [
    "A = np.zeros([2, 10])\n",
    "A[0] = [9.5,8.5,7.5,6.5,5.5,4.5,3.5,2.5,1.5,0.5]\n",
    "A[1] = np.ones(10)\n",
    "print(A)\n",
    "# (x, v) = A * f"
   ]
  },
  {
   "cell_type": "code",
   "execution_count": 62,
   "metadata": {},
   "outputs": [
    {
     "name": "stdout",
     "output_type": "stream",
     "text": [
      "[ 0.05454545  0.04242424  0.03030303  0.01818182  0.00606061 -0.00606061\n",
      " -0.01818182 -0.03030303 -0.04242424 -0.05454545]\n",
      "\n",
      "1.0000000000000004 4.163336342344337e-17\n"
     ]
    },
    {
     "data": {
      "image/png": "[encoded data removed]",
      "text/plain": [
       "<Figure size 432x288 with 1 Axes>"
      ]
     },
     "metadata": {
      "needs_background": "light"
     },
     "output_type": "display_data"
    },
    {
     "data": {
      "image/png": "[encoded data removed]",
      "text/plain": [
       "<Figure size 432x288 with 1 Axes>"
      ]
     },
     "metadata": {
      "needs_background": "light"
     },
     "output_type": "display_data"
    },
    {
     "data": {
      "image/png": "[encoded data removed]",
      "text/plain": [
       "<Figure size 432x288 with 1 Axes>"
      ]
     },
     "metadata": {
      "needs_background": "light"
     },
     "output_type": "display_data"
    }
   ],
   "source": [
    "import numpy as np\n",
    "import matplotlib.pyplot as plt\n",
    "from scipy.linalg import svd\n",
    "\n",
    "def solve_svd(A,b):\n",
    "    U,s,Vh = svd(A)\n",
    "    s += np.ones(len(s))/1e100\n",
    "    \n",
    "    # U diag(s) Vh x = b <=> diag(s) Vh x = U.T b = c\n",
    "    c = np.dot(U.T,b)\n",
    "    # diag(s) Vh x = c <=> Vh x = diag(1/s) c = w \n",
    "    w = np.dot(np.diag(1/s),c)\n",
    "    # Vh x = w <=> x = Vh.H w \n",
    "    x = np.dot(Vh.conj().T,w)\n",
    "    return x\n",
    "\n",
    "\n",
    "A = np.zeros([10, 10])\n",
    "A[0] = [9.5,8.5,7.5,6.5,5.5,4.5,3.5,2.5,1.5,0.5]\n",
    "A[1] = np.ones(10)\n",
    "b = np.zeros(10)\n",
    "b[0] = 1\n",
    "\n",
    "\n",
    "x_svd = solve_svd(A,b)\n",
    "print(x_svd, end='\\n\\n')\n",
    "\n",
    "groups = [f\"f(t={i})\" for i in range(1,11)]\n",
    "plt.bar(groups, x_svd)\n",
    "fig = plt.figure()\n",
    "plt.bar(groups, abs(x_svd))\n",
    "fig = plt.figure()\n",
    "\n",
    "x = 0\n",
    "v = 0\n",
    "X_t = [0] * 11\n",
    "V_t = [0] * 11\n",
    "for i in range(10):\n",
    "    x += x_svd[i]/2 + v\n",
    "    v += x_svd[i]\n",
    "    X_t[i+1] = x\n",
    "    V_t[i+1] = v\n",
    "    \n",
    "groups = [f\"t={i}\" for i in range(11)]\n",
    "plt.bar(groups, X_t)\n",
    "plt.bar(groups, V_t)   \n",
    "print(x, v)"
   ]
  }
 ],
 "metadata": {
  "kernelspec": {
   "display_name": "Python 3",
   "language": "python",
   "name": "python3"
  },
  "language_info": {
   "codemirror_mode": {
    "name": "ipython",
    "version": 3
   },
   "file_extension": ".py",
   "mimetype": "text/x-python",
   "name": "python",
   "nbconvert_exporter": "python",
   "pygments_lexer": "ipython3",
   "version": "3.8.6"
  }
 },
 "nbformat": 4,
 "nbformat_minor": 4
}
